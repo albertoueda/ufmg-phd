{
  "nbformat": 4,
  "nbformat_minor": 0,
  "metadata": {
    "colab": {
      "name": "Pyterrier evaluation.ipynb",
      "provenance": [],
      "collapsed_sections": [],
      "include_colab_link": true
    },
    "kernelspec": {
      "name": "python3",
      "display_name": "Python 3"
    }
  },
  "cells": [
    {
      "cell_type": "markdown",
      "metadata": {
        "id": "view-in-github",
        "colab_type": "text"
      },
      "source": [
        "<a href=\"https://colab.research.google.com/github/albertoueda/ufmg-phd/blob/master/Pyterrier_evaluation.ipynb\" target=\"_parent\"><img src=\"https://colab.research.google.com/assets/colab-badge.svg\" alt=\"Open In Colab\"/></a>"
      ]
    },
    {
      "cell_type": "markdown",
      "metadata": {
        "id": "dA8XkB3tKv17",
        "colab_type": "text"
      },
      "source": [
        "# Pyterrier evaluation\n",
        "\n",
        "Please complete the tasks and post the result in the qustionnaire. You should create a copy of the notebook and work there.    \n",
        "For documentation and examples see: https://github.com/A-Tsolov/Pyterrier\n",
        "\n",
        "In the case that it takes you over 30 minutes to complete the tasks, feel free to stop there and continue with the survey."
      ]
    },
    {
      "cell_type": "markdown",
      "metadata": {
        "id": "FhfF2HmUMs1Q",
        "colab_type": "text"
      },
      "source": [
        "# Preparation"
      ]
    },
    {
      "cell_type": "code",
      "metadata": {
        "id": "g7RxssneJd5R",
        "colab_type": "code",
        "colab": {}
      },
      "source": [
        "!pip install python-terrier"
      ],
      "execution_count": 0,
      "outputs": []
    },
    {
      "cell_type": "code",
      "metadata": {
        "id": "-FXftG63lRwz",
        "colab_type": "code",
        "colab": {}
      },
      "source": [
        "import os, wget\n",
        "import pandas as pd\n",
        "os.environ[\"JAVA_HOME\"] = \"/usr/lib/jvm/java-8-openjdk-amd64\""
      ],
      "execution_count": 0,
      "outputs": []
    },
    {
      "cell_type": "code",
      "metadata": {
        "id": "bRBJgLiNM6oL",
        "colab_type": "code",
        "colab": {}
      },
      "source": [
        "wget.download(\"http://raw.githubusercontent.com/A-Tsolov/Pyterrier/master/vaswani_npl/corpus/doc-text.trec\",\".\")\n",
        "wget.download(\"https://raw.githubusercontent.com/terrier-org/terrier-core/5.x/share/vaswani_npl/qrels\", \".\")\n",
        "wget.download(\"https://raw.githubusercontent.com/terrier-org/terrier-core/5.x/share/vaswani_npl/query-text.trec\", \".\")"
      ],
      "execution_count": 0,
      "outputs": []
    },
    {
      "cell_type": "markdown",
      "metadata": {
        "id": "mEL3Zw3fnNeh",
        "colab_type": "text"
      },
      "source": [
        "You should import pyterrier and run the init() function."
      ]
    },
    {
      "cell_type": "code",
      "metadata": {
        "id": "XIPxDx8gnSZR",
        "colab_type": "code",
        "colab": {}
      },
      "source": [
        ""
      ],
      "execution_count": 0,
      "outputs": []
    },
    {
      "cell_type": "markdown",
      "metadata": {
        "id": "I7URlQGBONZo",
        "colab_type": "text"
      },
      "source": [
        "# Indexing"
      ]
    },
    {
      "cell_type": "markdown",
      "metadata": {
        "id": "xN9EeYcYz-Ie",
        "colab_type": "text"
      },
      "source": [
        "### Task #1:\n",
        "\n",
        "Create an index from the given dataframe and store it in \"./df_index\". Make sure to specify the docno column as metadata"
      ]
    },
    {
      "cell_type": "code",
      "metadata": {
        "id": "jO6T7wVfb18D",
        "colab_type": "code",
        "colab": {}
      },
      "source": [
        "df = pd.DataFrame({ \n",
        "'docno':\n",
        "['1', '2', '3', '4', '5'],\n",
        "'text': \n",
        "['Everybody should read Chaucer to improve their everyday vocabulary.',\n",
        "'Truth in advertising and dinosaurs with skateboards have much in common.',\n",
        "\"When money was tight, he'd get his lunch money from the local wishing well.\",\n",
        "\"The small white buoys marked the location of hundreds of crab pots.\",\n",
        "\"Three generations with six decades of life experience.\"]\n",
        "})"
      ],
      "execution_count": 0,
      "outputs": []
    },
    {
      "cell_type": "code",
      "metadata": {
        "id": "PLB6rIwz0n_Z",
        "colab_type": "code",
        "colab": {}
      },
      "source": [
        "df"
      ],
      "execution_count": 0,
      "outputs": []
    },
    {
      "cell_type": "code",
      "metadata": {
        "id": "b1VNsehQNu8T",
        "colab_type": "code",
        "colab": {}
      },
      "source": [
        "# TASK 1: \n",
        "# YOUR CODE HERE"
      ],
      "execution_count": 0,
      "outputs": []
    },
    {
      "cell_type": "markdown",
      "metadata": {
        "id": "akDkfggdbqBo",
        "colab_type": "text"
      },
      "source": [
        "### Task #2:\n",
        "\n",
        "A TREC formatted collection was downloaded to ./doc-text.trec    \n",
        "Create an index from that collection and store it in \"./index\"."
      ]
    },
    {
      "cell_type": "code",
      "metadata": {
        "id": "MyP-eyJ5g0gg",
        "colab_type": "code",
        "colab": {}
      },
      "source": [
        "# TASK 2:\n",
        "# YOUR CODE HERE"
      ],
      "execution_count": 0,
      "outputs": []
    },
    {
      "cell_type": "markdown",
      "metadata": {
        "id": "p3mlLY6bdNO3",
        "colab_type": "text"
      },
      "source": [
        "# Retrieval and Evaluation\n",
        "\n",
        "The topics file is called \"query-text.trec\".    \n",
        "The qrels file is called \"qrels\".\n",
        "\n",
        "### Task #3:    \n",
        "Search the index you created in Task #1 (the dataframe index) for the word \"dinosaurs\".   \n",
        "Use the TF_IDF weighting model."
      ]
    },
    {
      "cell_type": "code",
      "metadata": {
        "id": "sE2N3YFtihRV",
        "colab_type": "code",
        "colab": {}
      },
      "source": [
        "# TASK 3:\n",
        "# YOUR CODE HERE"
      ],
      "execution_count": 0,
      "outputs": []
    },
    {
      "cell_type": "markdown",
      "metadata": {
        "id": "Q689_1sQihlT",
        "colab_type": "text"
      },
      "source": [
        "### Task #4:    \n",
        "Perform a retrieval run with the topics in \"query-text.trec\" on the index created in Task #2 (the trec collection index).     \n",
        "Use the PL2 weighting model.\n"
      ]
    },
    {
      "cell_type": "code",
      "metadata": {
        "id": "-39oTVO-ijy5",
        "colab_type": "code",
        "colab": {}
      },
      "source": [
        "# TASK 4:\n",
        "# YOUR CODE HERE"
      ],
      "execution_count": 0,
      "outputs": []
    },
    {
      "cell_type": "markdown",
      "metadata": {
        "id": "PbD2c4YWitgn",
        "colab_type": "text"
      },
      "source": [
        "### Task #5:   \n",
        "Evaluate the results from Task #4 with the qrels in the \"qrels\" file. Use the 'map' metric and print the mean result. "
      ]
    },
    {
      "cell_type": "code",
      "metadata": {
        "id": "VMFmPc_ViutY",
        "colab_type": "code",
        "colab": {}
      },
      "source": [
        "# TASK 5:\n",
        "# YOUR CODE HERE"
      ],
      "execution_count": 0,
      "outputs": []
    },
    {
      "cell_type": "markdown",
      "metadata": {
        "id": "fnNLEgKOkHS4",
        "colab_type": "text"
      },
      "source": [
        "# Experiment\n",
        "\n",
        "### Task #6:    \n",
        "Repeat Task #4 and Task #5 using the Experiment function."
      ]
    },
    {
      "cell_type": "code",
      "metadata": {
        "id": "nI1icQJBkbXA",
        "colab_type": "code",
        "colab": {}
      },
      "source": [
        "# TASK 6:\n",
        "# YOUR CODE HERE"
      ],
      "execution_count": 0,
      "outputs": []
    }
  ]
}